{
  "nbformat": 4,
  "nbformat_minor": 0,
  "metadata": {
    "colab": {
      "name": "Exercicio3.1_Modelo.ipynb",
      "provenance": [],
      "collapsed_sections": [],
      "include_colab_link": true
    },
    "kernelspec": {
      "name": "python3",
      "display_name": "Python 3"
    },
    "language_info": {
      "name": "python"
    }
  },
  "cells": [
    {
      "cell_type": "markdown",
      "metadata": {
        "id": "view-in-github",
        "colab_type": "text"
      },
      "source": [
        "<a href=\"https://colab.research.google.com/github/ronanluizdasilva/ECD/blob/main/D9/Exercicios/Exercicio3.1_RonanSilva.ipynb\" target=\"_parent\"><img src=\"https://colab.research.google.com/assets/colab-badge.svg\" alt=\"Open In Colab\"/></a>"
      ]
    },
    {
      "cell_type": "markdown",
      "metadata": {
        "id": "NSLs83IDUKfq"
      },
      "source": [
        "# Exercício 3.1"
      ]
    },
    {
      "cell_type": "code",
      "metadata": {
        "colab": {
          "base_uri": "https://localhost:8080/"
        },
        "id": "Z0nybKmRrJRn",
        "outputId": "d8f2aca0-37f4-4e0f-a257-6e84bdb59332"
      },
      "source": [
        "from google.colab import auth\n",
        "auth.authenticate_user()\n",
        "print('Authenticated')"
      ],
      "execution_count": null,
      "outputs": [
        {
          "output_type": "stream",
          "name": "stdout",
          "text": [
            "Authenticated\n"
          ]
        }
      ]
    },
    {
      "cell_type": "code",
      "metadata": {
        "id": "i8BuNBoVUPys",
        "colab": {
          "base_uri": "https://localhost:8080/",
          "height": 213
        },
        "outputId": "18de845d-b4a0-4877-e0ad-55eaf433e8fb"
      },
      "source": [
        "import pandas as pd\n",
        "## Defina o id do seu projeto no bigquery!!!!!\n",
        "project_id = 'enap-331414' # Defina o id do seu projeto no bigquery!!!!!\n",
        "## Defina o id do seu projeto no bigquery!!!!!\n",
        "\n",
        "df = pd.io.gbq.read_gbq('''SELECT * FROM `basedosdados.br_ibge_populacao.municipio` LIMIT 100''', project_id=project_id)\n",
        "\n",
        "df.head()"
      ],
      "execution_count": null,
      "outputs": [
        {
          "output_type": "execute_result",
          "data": {
            "text/html": [
              "<div>\n",
              "<style scoped>\n",
              "    .dataframe tbody tr th:only-of-type {\n",
              "        vertical-align: middle;\n",
              "    }\n",
              "\n",
              "    .dataframe tbody tr th {\n",
              "        vertical-align: top;\n",
              "    }\n",
              "\n",
              "    .dataframe thead th {\n",
              "        text-align: right;\n",
              "    }\n",
              "</style>\n",
              "<table border=\"1\" class=\"dataframe\">\n",
              "  <thead>\n",
              "    <tr style=\"text-align: right;\">\n",
              "      <th></th>\n",
              "      <th>ano</th>\n",
              "      <th>sigla_uf</th>\n",
              "      <th>id_municipio</th>\n",
              "      <th>populacao</th>\n",
              "    </tr>\n",
              "  </thead>\n",
              "  <tbody>\n",
              "    <tr>\n",
              "      <th>0</th>\n",
              "      <td>1991</td>\n",
              "      <td>RO</td>\n",
              "      <td>1100015</td>\n",
              "      <td>31981</td>\n",
              "    </tr>\n",
              "    <tr>\n",
              "      <th>1</th>\n",
              "      <td>1992</td>\n",
              "      <td>RO</td>\n",
              "      <td>1100015</td>\n",
              "      <td>34768</td>\n",
              "    </tr>\n",
              "    <tr>\n",
              "      <th>2</th>\n",
              "      <td>1993</td>\n",
              "      <td>RO</td>\n",
              "      <td>1100015</td>\n",
              "      <td>37036</td>\n",
              "    </tr>\n",
              "    <tr>\n",
              "      <th>3</th>\n",
              "      <td>1994</td>\n",
              "      <td>RO</td>\n",
              "      <td>1100015</td>\n",
              "      <td>39325</td>\n",
              "    </tr>\n",
              "    <tr>\n",
              "      <th>4</th>\n",
              "      <td>1995</td>\n",
              "      <td>RO</td>\n",
              "      <td>1100015</td>\n",
              "      <td>41574</td>\n",
              "    </tr>\n",
              "  </tbody>\n",
              "</table>\n",
              "</div>"
            ],
            "text/plain": [
              "    ano sigla_uf id_municipio  populacao\n",
              "0  1991       RO      1100015      31981\n",
              "1  1992       RO      1100015      34768\n",
              "2  1993       RO      1100015      37036\n",
              "3  1994       RO      1100015      39325\n",
              "4  1995       RO      1100015      41574"
            ]
          },
          "metadata": {},
          "execution_count": 4
        }
      ]
    },
    {
      "cell_type": "code",
      "metadata": {
        "id": "FBdtX5y8TSPB"
      },
      "source": [
        "## Explique o que fez na sua query e por que.\n"
      ],
      "execution_count": null,
      "outputs": []
    },
    {
      "cell_type": "markdown",
      "metadata": {
        "id": "IdUFXgfWTPIe"
      },
      "source": [
        "## Submeta o seu dataframe criando uma tabela no BigQuery"
      ]
    },
    {
      "cell_type": "code",
      "metadata": {
        "colab": {
          "base_uri": "https://localhost:8080/"
        },
        "id": "mF2rNZIvx-zz",
        "outputId": "beb354b3-b6fc-471d-a9dd-99abe202a354"
      },
      "source": [
        "df.to_gbq(\"enapdatasets.populacao\",\n",
        "              project_id=project_id,\n",
        "              chunksize=40000,\n",
        "              if_exists='replace',\n",
        "              )"
      ],
      "execution_count": null,
      "outputs": [
        {
          "output_type": "stream",
          "name": "stderr",
          "text": [
            "1it [00:03,  3.77s/it]\n"
          ]
        }
      ]
    },
    {
      "cell_type": "markdown",
      "metadata": {
        "id": "KxgVMBVrJNcS"
      },
      "source": [
        "#### O comando acima cria um dataset chamado SEU_DATASET e dentro dele uma tabela chamada NOVA_TABELA_A_SER_CRIADA.\n",
        "#### Por padrão, os dados são guardados fisicamente nos EUA, onde também estão guardados os dados do projeto basedosdados.\n",
        "#### Não é possível fazer join de dados guardados em locais distintos, por isso estamos armazenando os dados desse exercício também nos EUA.\n",
        "\n",
        "##### Aqui há uma demonstração de como [criar um dataset manualmente](https://drive.google.com/file/d/12mruc1Gu6nRVC8tzz4lesYGiPVH7Tir-/view?usp=sharing) "
      ]
    },
    {
      "cell_type": "code",
      "metadata": {
        "id": "SIzB0SVq6h_q"
      },
      "source": [
        ""
      ],
      "execution_count": null,
      "outputs": []
    }
  ]
}